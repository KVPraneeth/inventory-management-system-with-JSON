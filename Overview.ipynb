{
 "cells": [
  {
   "cell_type": "code",
   "execution_count": 1,
   "metadata": {},
   "outputs": [],
   "source": [
    "record = {1001: {'Name': \"5 Star\"         , \"Price\" : 10 , \"Qn\" : 200},\n",
    "          1002: {'Name': \"Bar-One\"        , \"Price\" : 20 , \"Qn\" : 100 },\n",
    "          1003: {'Name': \"Candy\"          , \"Price\" : 2  , \"Qn\" : 1000},\n",
    "          1004: {'Name': \"Chocolate Cake\" , \"Price\" : 550, \"Qn\" : 8 },\n",
    "          1005: {'Name': \"Blueberry Cake\" , \"Price\" : 650, \"Qn\" : 5 }}"
   ]
  },
  {
   "cell_type": "code",
   "execution_count": 2,
   "metadata": {},
   "outputs": [
    {
     "name": "stdout",
     "output_type": "stream",
     "text": [
      "{'Name': '5 Star', 'Price': 10, 'Qn': 200}\n"
     ]
    }
   ],
   "source": [
    "print(record[1001])"
   ]
  },
  {
   "cell_type": "code",
   "execution_count": 3,
   "metadata": {},
   "outputs": [
    {
     "name": "stdout",
     "output_type": "stream",
     "text": [
      "{1001: {'Name': '5 Star', 'Price': 10, 'Qn': 200}, 1002: {'Name': 'Bar-One', 'Price': 20, 'Qn': 100}, 1003: {'Name': 'Candy', 'Price': 2, 'Qn': 1000}, 1004: {'Name': 'Chocolate Cake', 'Price': 550, 'Qn': 8}, 1005: {'Name': 'Blueberry Cake', 'Price': 650, 'Qn': 5}}\n"
     ]
    }
   ],
   "source": [
    "print(record)"
   ]
  },
  {
   "cell_type": "code",
   "execution_count": 4,
   "metadata": {},
   "outputs": [
    {
     "name": "stdout",
     "output_type": "stream",
     "text": [
      "5 Star\n"
     ]
    }
   ],
   "source": [
    "print(record[1001]['Name'])"
   ]
  },
  {
   "cell_type": "code",
   "execution_count": 5,
   "metadata": {},
   "outputs": [
    {
     "name": "stdout",
     "output_type": "stream",
     "text": [
      "20\n"
     ]
    }
   ],
   "source": [
    "print(record[1002]['Price'])"
   ]
  },
  {
   "cell_type": "markdown",
   "metadata": {},
   "source": [
    "## Generating Bill"
   ]
  },
  {
   "cell_type": "code",
   "execution_count": 6,
   "metadata": {},
   "outputs": [
    {
     "name": "stdout",
     "output_type": "stream",
     "text": [
      "{'Name': '5 Star', 'Price': 10, 'Qn': 200}\n",
      "{'Name': 'Bar-One', 'Price': 20, 'Qn': 100}\n",
      "{'Name': 'Candy', 'Price': 2, 'Qn': 1000}\n",
      "{'Name': 'Chocolate Cake', 'Price': 550, 'Qn': 8}\n",
      "{'Name': 'Blueberry Cake', 'Price': 650, 'Qn': 5}\n"
     ]
    }
   ],
   "source": [
    "for key in record.keys():\n",
    "    print(record[key])"
   ]
  },
  {
   "cell_type": "code",
   "execution_count": 7,
   "metadata": {},
   "outputs": [
    {
     "name": "stdout",
     "output_type": "stream",
     "text": [
      "1001 ----> {'Name': '5 Star', 'Price': 10, 'Qn': 200}\n",
      "1002 ----> {'Name': 'Bar-One', 'Price': 20, 'Qn': 100}\n",
      "1003 ----> {'Name': 'Candy', 'Price': 2, 'Qn': 1000}\n",
      "1004 ----> {'Name': 'Chocolate Cake', 'Price': 550, 'Qn': 8}\n",
      "1005 ----> {'Name': 'Blueberry Cake', 'Price': 650, 'Qn': 5}\n"
     ]
    }
   ],
   "source": [
    "for key in record.keys():\n",
    "    print(f'{key} ----> {record[key]}')"
   ]
  },
  {
   "cell_type": "code",
   "execution_count": 11,
   "metadata": {},
   "outputs": [
    {
     "name": "stdout",
     "output_type": "stream",
     "text": [
      "--------------MENU------------------\n",
      "1001 : 5 Star | 10 | 200\n",
      "1002 : Bar-One | 20 | 100\n",
      "1003 : Candy | 2 | 1000\n",
      "1004 : Chocolate Cake | 550 | 8\n",
      "1005 : Blueberry Cake | 650 | 5\n",
      "------------------------------------\n"
     ]
    }
   ],
   "source": [
    "print('--------------MENU------------------')\n",
    "for key in record.keys():\n",
    "    print(f\"{key} : {record[key]['Name']} | {record[key]['Price']} | {record[key]['Qn']}\")\n",
    "\n",
    "print('------------------------------------')"
   ]
  },
  {
   "cell_type": "code",
   "execution_count": 16,
   "metadata": {},
   "outputs": [
    {
     "name": "stdout",
     "output_type": "stream",
     "text": [
      "-----------------BILL---------------\n",
      "Id : 1001\n",
      "NAme : 5 Star\n",
      "Price : 10\n",
      "Qunatity : 5\n",
      "---------------------------------\n",
      "Total : 50\n",
      "---------------------------------\n"
     ]
    }
   ],
   "source": [
    "ui_prd = input(\"Enter product ID to purchase:\")\n",
    "ui_qn = input(\"Enter Qunatity of product to purchase:\")\n",
    "\n",
    "print('-----------------BILL---------------')\n",
    "for key in record.keys():\n",
    "    if key == int(ui_prd):\n",
    "        print(f\"Id : {ui_prd}\")\n",
    "        print(f\"NAme : {record[key]['Name']}\")\n",
    "        print(f\"Price : {record[key]['Price']}\")\n",
    "        print(f\"Qunatity : {ui_qn}\")\n",
    "        print('---------------------------------')\n",
    "        print(f\"Total : {int(record[key]['Price']) * int(ui_qn)}\")\n",
    "        print('---------------------------------')"
   ]
  },
  {
   "cell_type": "markdown",
   "metadata": {},
   "source": [
    "## Updating inventory"
   ]
  },
  {
   "cell_type": "code",
   "execution_count": 17,
   "metadata": {},
   "outputs": [
    {
     "name": "stdout",
     "output_type": "stream",
     "text": [
      "--------------MENU BEFORE ORDER------------------\n",
      "1001 : 5 Star | 10 | 200\n",
      "1002 : Bar-One | 20 | 100\n",
      "1003 : Candy | 2 | 1000\n",
      "1004 : Chocolate Cake | 550 | 8\n",
      "1005 : Blueberry Cake | 650 | 5\n",
      "------------------------------------\n",
      "-----------------BILL---------------\n",
      "Id : 1001\n",
      "NAme : 5 Star\n",
      "Price : 10\n",
      "Qunatity : 20\n",
      "---------------------------------\n",
      "Total : 200\n",
      "---------------------------------\n",
      "--------------MENU AFTER ORDER------------------\n",
      "1001 : 5 Star | 10 | 180\n",
      "1002 : Bar-One | 20 | 100\n",
      "1003 : Candy | 2 | 1000\n",
      "1004 : Chocolate Cake | 550 | 8\n",
      "1005 : Blueberry Cake | 650 | 5\n",
      "------------------------------------\n"
     ]
    }
   ],
   "source": [
    "print('--------------MENU BEFORE ORDER------------------')\n",
    "for key in record.keys():\n",
    "    print(f\"{key} : {record[key]['Name']} | {record[key]['Price']} | {record[key]['Qn']}\")\n",
    "\n",
    "print('------------------------------------')\n",
    "\n",
    "\n",
    "ui_prd = input(\"Enter product ID to purchase:\")\n",
    "ui_qn = input(\"Enter Qunatity of product to purchase:\")\n",
    "\n",
    "print('-----------------BILL---------------')\n",
    "for key in record.keys():\n",
    "    if key == int(ui_prd):\n",
    "        print(f\"Id : {ui_prd}\")\n",
    "        print(f\"NAme : {record[key]['Name']}\")\n",
    "        print(f\"Price : {record[key]['Price']}\")\n",
    "        print(f\"Qunatity : {ui_qn}\")\n",
    "        record[key]['Qn'] = str(int(record[key]['Qn']) - int(ui_qn))\n",
    "        print('---------------------------------')\n",
    "        print(f\"Total : {int(record[key]['Price']) * int(ui_qn)}\")\n",
    "        print('---------------------------------')\n",
    "\n",
    "print('--------------MENU AFTER ORDER------------------')\n",
    "for key in record.keys():\n",
    "    print(f\"{key} : {record[key]['Name']} | {record[key]['Price']} | {record[key]['Qn']}\")\n",
    "\n",
    "print('------------------------------------')\n",
    "\n"
   ]
  },
  {
   "cell_type": "markdown",
   "metadata": {},
   "source": [
    "## Saving Record"
   ]
  },
  {
   "cell_type": "code",
   "execution_count": 20,
   "metadata": {},
   "outputs": [
    {
     "name": "stdout",
     "output_type": "stream",
     "text": [
      "{1001: {'Name': '5 Star', 'Price': 10, 'Qn': '180'}, 1002: {'Name': 'Bar-One', 'Price': 20, 'Qn': 100}, 1003: {'Name': 'Candy', 'Price': 2, 'Qn': 1000}, 1004: {'Name': 'Chocolate Cake', 'Price': 550, 'Qn': 8}, 1005: {'Name': 'Blueberry Cake', 'Price': 650, 'Qn': 5}}\n",
      "<class 'dict'>\n",
      "--------------------------------------\n",
      "--------------------------------------\n",
      "{'1001': {'Name': '5 Star', 'Price': 10, 'Qn': '180'}, '1002': {'Name': 'Bar-One', 'Price': 20, 'Qn': 100}, '1003': {'Name': 'Candy', 'Price': 2, 'Qn': 1000}, '1004': {'Name': 'Chocolate Cake', 'Price': 550, 'Qn': 8}, '1005': {'Name': 'Blueberry Cake', 'Price': 650, 'Qn': 5}}\n",
      "<class 'dict'>\n"
     ]
    }
   ],
   "source": [
    "import json\n",
    "#record_data = json.dump(record, )\n",
    "\n",
    "with open('inventory.json','w') as fd:\n",
    "    json.dump(record, fd)\n",
    "\n",
    "print(record)\n",
    "print(type(record))\n",
    "\n",
    "print('--------------------------------------')\n",
    "\n",
    "print('--------------------------------------')\n",
    "\n",
    "with open('inventory.json','r') as fd:\n",
    "    json_data = json.load(fd)\n",
    "\n",
    "print(json_data)\n",
    "print(type(json_data))"
   ]
  },
  {
   "cell_type": "code",
   "execution_count": 21,
   "metadata": {},
   "outputs": [
    {
     "name": "stdout",
     "output_type": "stream",
     "text": [
      "{\"1001\": {\"Name\": \"5 Star\", \"Price\": 10, \"Qn\": \"180\"}, \"1002\": {\"Name\": \"Bar-One\", \"Price\": 20, \"Qn\": 100}, \"1003\": {\"Name\": \"Candy\", \"Price\": 2, \"Qn\": 1000}, \"1004\": {\"Name\": \"Chocolate Cake\", \"Price\": 550, \"Qn\": 8}, \"1005\": {\"Name\": \"Blueberry Cake\", \"Price\": 650, \"Qn\": 5}}\n",
      "<class 'str'>\n"
     ]
    }
   ],
   "source": [
    "json_data_string = json.dumps(record)\n",
    "print(json_data_string)\n",
    "print(type(json_data_string))"
   ]
  },
  {
   "cell_type": "markdown",
   "metadata": {},
   "source": [
    "## Loading JSON file"
   ]
  },
  {
   "cell_type": "code",
   "execution_count": 22,
   "metadata": {},
   "outputs": [
    {
     "name": "stdout",
     "output_type": "stream",
     "text": [
      "<class 'dict'>\n"
     ]
    }
   ],
   "source": [
    "with open('inventory.json', 'r') as fd:\n",
    "    json_data = json.load(fd)\n",
    "\n",
    "print(type(json_data))"
   ]
  },
  {
   "cell_type": "code",
   "execution_count": 24,
   "metadata": {},
   "outputs": [
    {
     "name": "stdout",
     "output_type": "stream",
     "text": [
      "-----------Data from inventory.json -----------------------\n",
      "1001 : 5 Star | 10 | 180\n",
      "1002 : Bar-One | 20 | 100\n",
      "1003 : Candy | 2 | 1000\n",
      "1004 : Chocolate Cake | 550 | 8\n",
      "1005 : Blueberry Cake | 650 | 5\n",
      "-----------------------------------------------------------\n"
     ]
    }
   ],
   "source": [
    "print('-----------Data from inventory.json -----------------------')\n",
    "\n",
    "for key in json_data.keys():\n",
    "    print(f\"{key} : {json_data[key]['Name']} | {json_data[key]['Price']} | {json_data[key]['Qn']}\")\n",
    "\n",
    "print('-----------------------------------------------------------')"
   ]
  },
  {
   "cell_type": "markdown",
   "metadata": {},
   "source": [
    "### Adding functionalities"
   ]
  },
  {
   "cell_type": "code",
   "execution_count": 28,
   "metadata": {},
   "outputs": [
    {
     "name": "stdout",
     "output_type": "stream",
     "text": [
      "<class 'dict'>\n",
      "------------------------------MENU -----------------------\n",
      "1001 : 5 Star | 10 | 155\n",
      "1002 : Bar-One | 20 | 100\n",
      "1003 : Candy | 2 | 1000\n",
      "1004 : Chocolate Cake | 550 | 8\n",
      "1005 : Blueberry Cake | 650 | 5\n",
      "-----------------------------------------------------------\n",
      "-----------------BILL---------------\n",
      "NAME : Praneeth\n",
      "MOBILE : 9611124855\n",
      "Id : 1001\n",
      "NAme : 5 Star\n",
      "Price : 10\n",
      "Qunatity : 4\n",
      "---------------------------------\n",
      "Total : 40\n",
      "---------------------------------\n",
      "--------------------------------------------------------\n",
      "-----------------------JSON FILE------------------------\n",
      "--------------------------------------------------------\n",
      "<class 'dict'>\n",
      "1001 : 5 Star | 10 | 151\n",
      "1002 : Bar-One | 20 | 100\n",
      "1003 : Candy | 2 | 1000\n",
      "1004 : Chocolate Cake | 550 | 8\n",
      "1005 : Blueberry Cake | 650 | 5\n",
      "--------------------------------------------------------\n",
      "-----------------------TEXT FILE------------------------\n",
      "--------------------------------------------------------\n",
      "{'1001': {'Name': '5 Star', 'Price': 10, 'Qn': '151'}, '1002': {'Name': 'Bar-One', 'Price': 20, 'Qn': 100}, '1003': {'Name': 'Candy', 'Price': 2, 'Qn': 1000}, '1004': {'Name': 'Chocolate Cake', 'Price': 550, 'Qn': 8}, '1005': {'Name': 'Blueberry Cake', 'Price': 650, 'Qn': 5}}\n",
      "--------------------------------------------------------\n",
      "-----------------------CSV FILE-------------------------\n",
      "--------------------------------------------------------\n",
      "{'ID': 'ID', 'Name': 'Name', 'Price': 'Price', 'Qn': 'Qn'}\n",
      "{'ID': '1001', 'Name': '5 Star', 'Price': '10', 'Qn': '151'}\n",
      "{'ID': '1002', 'Name': 'Bar-One', 'Price': '20', 'Qn': '100'}\n",
      "{'ID': '1003', 'Name': 'Candy', 'Price': '2', 'Qn': '1000'}\n",
      "{'ID': '1004', 'Name': 'Chocolate Cake', 'Price': '550', 'Qn': '8'}\n",
      "{'ID': '1005', 'Name': 'Blueberry Cake', 'Price': '650', 'Qn': '5'}\n"
     ]
    }
   ],
   "source": [
    "# Opeing inventory.json\n",
    "with open('inventory.json', 'r') as fd:\n",
    "    record = json.load(fd)\n",
    "\n",
    "print(type(json_data))\n",
    "\n",
    "# Printing Menu\n",
    "print('------------------------------MENU -----------------------')\n",
    "\n",
    "for key in record.keys():\n",
    "    print(f\"{key} : {record[key]['Name']} | {record[key]['Price']} | {record[key]['Qn']}\")\n",
    "\n",
    "print('-----------------------------------------------------------')\n",
    "\n",
    "# Accepting User input\n",
    "ui_name = input(\"Enter Name :\")\n",
    "ui_num = input(\"Enter Mobile :\")\n",
    "ui_prd = input(\"Enter product ID to purchase:\")\n",
    "ui_qn = input(\"Enter Qunatity of product to purchase:\")\n",
    "\n",
    "item_found = False\n",
    "stock_avail = False\n",
    "# Generating Bill\n",
    "print('-----------------BILL---------------')\n",
    "print(f'NAME : {ui_name}')\n",
    "print(f\"MOBILE : {ui_num}\")\n",
    "for key in record.keys():\n",
    "    if int(key) == int(ui_prd):\n",
    "        item_found = True\n",
    "        if int(record[key]['Qn']) >= int(ui_qn):\n",
    "            stock_avail = True\n",
    "            print(f\"Id : {ui_prd}\")\n",
    "            print(f\"NAme : {record[key]['Name']}\")\n",
    "            print(f\"Price : {record[key]['Price']}\")\n",
    "            print(f\"Qunatity : {ui_qn}\")\n",
    "            record[key]['Qn'] = str(int(record[key]['Qn']) - int(ui_qn))\n",
    "            print('---------------------------------')\n",
    "            print(f\"Total : {int(record[key]['Price']) * int(ui_qn)}\")\n",
    "            print('---------------------------------')\n",
    "        else:\n",
    "            print(\" !!!! SORRY THE STOCK IS INSUFFICIENT FOR YOUR PURCHASE  !!!!\")\n",
    "\n",
    "if item_found == False:\n",
    "    print(' !!!! ITEM UNAVAILABLE FOR PURCHASE  !!!!')\n",
    "\n",
    "\n",
    "# Updating inventory after sales in json file\n",
    "with open('inventory.json','w') as fd:\n",
    "    json.dump(record, fd)\n",
    "\n",
    "\n",
    "# Checking if inventory updated correctly\n",
    "print('--------------------------------------------------------')\n",
    "print('-----------------------JSON FILE------------------------')\n",
    "print('--------------------------------------------------------')\n",
    "\n",
    "with open('inventory.json', 'r') as fd:\n",
    "    json_data = json.load(fd)\n",
    "\n",
    "print(type(json_data))\n",
    "\n",
    "for key in json_data.keys():\n",
    "    print(f\"{key} : {json_data[key]['Name']} | {json_data[key]['Price']} | {json_data[key]['Qn']}\")\n",
    "    \n",
    "\n",
    "# Creating a inventory.txt file for inventory\n",
    "with open('inventory1.txt' , 'w') as fd:\n",
    "    fd.write(str(record))\n",
    "\n",
    "\n",
    "# Checking if invenrty1.txt updated correctly\n",
    "print('--------------------------------------------------------')\n",
    "print('-----------------------TEXT FILE------------------------')\n",
    "print('--------------------------------------------------------')\n",
    "\n",
    "with open('inventory1.txt', 'r') as fd:\n",
    "    content = fd.read()\n",
    "\n",
    "print(content)\n",
    "\n",
    "\n",
    "# Creating a CSV file for inventory\n",
    "import csv\n",
    "with open('inventory3.csv' , 'w', newline='') as fd:\n",
    "    fieldnames = ['ID', 'Name','Price','Qn']\n",
    "    writer = csv.DictWriter(fd, fieldnames = fieldnames)\n",
    "    writer.writeheader()\n",
    "    for key, value in record.items():\n",
    "        writer.writerow({'ID': key, 'Name': value['Name'], 'Price': value['Price'] , 'Qn': value['Qn']})\n",
    "\n",
    "# Checking if invenrty4.csv updated correctly\n",
    "print('--------------------------------------------------------')\n",
    "print('-----------------------CSV FILE-------------------------')\n",
    "print('--------------------------------------------------------')\n",
    "\n",
    "with open('inventory3.csv', 'r') as fd:\n",
    "    fieldnames = ['ID' , 'Name','Price','Qn']\n",
    "    reader = csv.DictReader(fd,fieldnames=fieldnames)\n",
    "    for row in reader:\n",
    "        print(row)\n",
    "\n",
    "\n",
    "\n"
   ]
  },
  {
   "cell_type": "code",
   "execution_count": null,
   "metadata": {},
   "outputs": [],
   "source": []
  }
 ],
 "metadata": {
  "kernelspec": {
   "display_name": "Python 3",
   "language": "python",
   "name": "python3"
  },
  "language_info": {
   "codemirror_mode": {
    "name": "ipython",
    "version": 3
   },
   "file_extension": ".py",
   "mimetype": "text/x-python",
   "name": "python",
   "nbconvert_exporter": "python",
   "pygments_lexer": "ipython3",
   "version": "3.11.8"
  }
 },
 "nbformat": 4,
 "nbformat_minor": 2
}
